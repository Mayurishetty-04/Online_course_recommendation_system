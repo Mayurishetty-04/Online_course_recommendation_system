{
  "cells": [
    {
      "cell_type": "code",
      "source": [
        "# --- Environment Fix ---\n",
        "!pip install --force-reinstall \"numpy<1.26\" --quiet\n",
        "!pip install --force-reinstall scikit-surprise==1.1.3 --no-cache-dir --quiet\n",
        "\n",
        "import numpy as np, pandas as pd\n",
        "print(\"✅ NumPy:\", np.__version__)\n"
      ],
      "metadata": {
        "colab": {
          "base_uri": "https://localhost:8080/"
        },
        "id": "G-mI8zZY_g0h",
        "outputId": "ff8882c4-4073-42be-b8e3-c7f2671e2991"
      },
      "execution_count": 14,
      "outputs": [
        {
          "output_type": "stream",
          "name": "stdout",
          "text": [
            "\u001b[?25l     \u001b[90m━━━━━━━━━━━━━━━━━━━━━━━━━━━━━━━━━━━━━━━━\u001b[0m \u001b[32m0.0/10.8 MB\u001b[0m \u001b[31m?\u001b[0m eta \u001b[36m-:--:--\u001b[0m\r\u001b[2K     \u001b[91m╸\u001b[0m\u001b[90m━━━━━━━━━━━━━━━━━━━━━━━━━━━━━━━━━━━━━━━\u001b[0m \u001b[32m0.2/10.8 MB\u001b[0m \u001b[31m6.7 MB/s\u001b[0m eta \u001b[36m0:00:02\u001b[0m\r\u001b[2K     \u001b[91m━━━━\u001b[0m\u001b[91m╸\u001b[0m\u001b[90m━━━━━━━━━━━━━━━━━━━━━━━━━━━━━━━━━━━\u001b[0m \u001b[32m1.3/10.8 MB\u001b[0m \u001b[31m18.8 MB/s\u001b[0m eta \u001b[36m0:00:01\u001b[0m\r\u001b[2K     \u001b[91m━━━━━━━━━━━━━━━━━━━━━\u001b[0m\u001b[90m╺\u001b[0m\u001b[90m━━━━━━━━━━━━━━━━━━\u001b[0m \u001b[32m5.8/10.8 MB\u001b[0m \u001b[31m55.8 MB/s\u001b[0m eta \u001b[36m0:00:01\u001b[0m\r\u001b[2K     \u001b[91m━━━━━━━━━━━━━━━━━━━━━━━━━━━━━━━━━━━━━━\u001b[0m\u001b[91m╸\u001b[0m \u001b[32m10.8/10.8 MB\u001b[0m \u001b[31m135.9 MB/s\u001b[0m eta \u001b[36m0:00:01\u001b[0m\r\u001b[2K     \u001b[90m━━━━━━━━━━━━━━━━━━━━━━━━━━━━━━━━━━━━━━━━\u001b[0m \u001b[32m10.8/10.8 MB\u001b[0m \u001b[31m85.0 MB/s\u001b[0m eta \u001b[36m0:00:00\u001b[0m\n",
            "\u001b[?25h  Installing build dependencies ... \u001b[?25l\u001b[?25hdone\n",
            "  \u001b[1;31merror\u001b[0m: \u001b[1msubprocess-exited-with-error\u001b[0m\n",
            "  \n",
            "  \u001b[31m×\u001b[0m \u001b[32mGetting requirements to build wheel\u001b[0m did not run successfully.\n",
            "  \u001b[31m│\u001b[0m exit code: \u001b[1;36m1\u001b[0m\n",
            "  \u001b[31m╰─>\u001b[0m See above for output.\n",
            "  \n",
            "  \u001b[1;35mnote\u001b[0m: This error originates from a subprocess, and is likely not a problem with pip.\n",
            "  Getting requirements to build wheel ... \u001b[?25l\u001b[?25herror\n",
            "\u001b[1;31merror\u001b[0m: \u001b[1msubprocess-exited-with-error\u001b[0m\n",
            "\n",
            "\u001b[31m×\u001b[0m \u001b[32mGetting requirements to build wheel\u001b[0m did not run successfully.\n",
            "\u001b[31m│\u001b[0m exit code: \u001b[1;36m1\u001b[0m\n",
            "\u001b[31m╰─>\u001b[0m See above for output.\n",
            "\n",
            "\u001b[1;35mnote\u001b[0m: This error originates from a subprocess, and is likely not a problem with pip.\n",
            "\u001b[2K     \u001b[90m━━━━━━━━━━━━━━━━━━━━━━━━━━━━━━━━━━━━━━\u001b[0m \u001b[32m772.0/772.0 kB\u001b[0m \u001b[31m13.2 MB/s\u001b[0m eta \u001b[36m0:00:00\u001b[0m\n",
            "\u001b[?25h  \u001b[1;31merror\u001b[0m: \u001b[1msubprocess-exited-with-error\u001b[0m\n",
            "  \n",
            "  \u001b[31m×\u001b[0m \u001b[32mpython setup.py egg_info\u001b[0m did not run successfully.\n",
            "  \u001b[31m│\u001b[0m exit code: \u001b[1;36m1\u001b[0m\n",
            "  \u001b[31m╰─>\u001b[0m See above for output.\n",
            "  \n",
            "  \u001b[1;35mnote\u001b[0m: This error originates from a subprocess, and is likely not a problem with pip.\n",
            "  Preparing metadata (setup.py) ... \u001b[?25l\u001b[?25herror\n",
            "\u001b[1;31merror\u001b[0m: \u001b[1mmetadata-generation-failed\u001b[0m\n",
            "\n",
            "\u001b[31m×\u001b[0m Encountered error while generating package metadata.\n",
            "\u001b[31m╰─>\u001b[0m See above for output.\n",
            "\n",
            "\u001b[1;35mnote\u001b[0m: This is an issue with the package mentioned above, not pip.\n",
            "\u001b[1;36mhint\u001b[0m: See above for details.\n",
            "✅ NumPy: 2.0.2\n"
          ]
        }
      ]
    },
    {
      "cell_type": "code",
      "source": [
        "# =====================================================\n",
        "# Online Course Recommendation System (NumPy 2.x Safe + Gradio Enhanced)\n",
        "# =====================================================\n",
        "import pandas as pd\n",
        "import numpy as np\n",
        "from sklearn.decomposition import TruncatedSVD\n",
        "from sklearn.metrics.pairwise import cosine_similarity\n",
        "import gradio as gr\n",
        "\n",
        "# ---------- CONFIG ----------\n",
        "file_path = \"/content/online_course_recommendation.csv\"  # Update path if needed\n",
        "TOP_N_DEFAULT = 5\n",
        "\n",
        "# ---------- Load dataset ----------\n",
        "df = pd.read_csv(file_path)\n",
        "print(\"✅ Dataset loaded:\", df.shape)\n",
        "\n",
        "# Add implicit rating if missing\n",
        "if \"rating\" not in df.columns:\n",
        "    df[\"rating\"] = 1.0\n",
        "\n",
        "# ---------- User-Course Matrix ----------\n",
        "pivot = df.pivot_table(index=\"user_id\", columns=\"course_id\", values=\"rating\", fill_value=0)\n",
        "\n",
        "# ---------- SVD ----------\n",
        "svd = TruncatedSVD(n_components=20, random_state=42)\n",
        "user_factors = svd.fit_transform(pivot)\n",
        "course_factors = svd.components_.T\n",
        "course_ids = pivot.columns\n",
        "\n",
        "# ---------- Cosine similarity ----------\n",
        "similarity = cosine_similarity(course_factors)\n",
        "\n",
        "# ---------- Recommendation Function ----------\n",
        "def recommend_for(user_id, top_n=TOP_N_DEFAULT):\n",
        "    user_id = str(user_id)\n",
        "    if user_id not in pivot.index:\n",
        "        return []\n",
        "\n",
        "    user_vector = pivot.loc[user_id].values.reshape(1, -1)\n",
        "    scores = user_vector.dot(similarity).flatten()\n",
        "\n",
        "    # Remove already seen courses\n",
        "    seen = set(df.loc[df.user_id == user_id, \"course_id\"])\n",
        "    candidates = [(course_ids[i], scores[i]) for i in range(len(course_ids)) if course_ids[i] not in seen]\n",
        "\n",
        "    # Top-N\n",
        "    topn = sorted(candidates, key=lambda x: x[1], reverse=True)[:top_n]\n",
        "\n",
        "    # Add metadata\n",
        "    meta = df.drop_duplicates(\"course_id\").set_index(\"course_id\")\n",
        "    recs = []\n",
        "    for cid, score in topn:\n",
        "        info = {\"course_id\": cid, \"score\": round(float(score), 4)}\n",
        "        if cid in meta.index:\n",
        "            row = meta.loc[cid]\n",
        "            for col in [\"description\", \"category\", \"tags\"]:\n",
        "                if col in row.index:\n",
        "                    info[col] = row[col]\n",
        "        recs.append(info)\n",
        "    return recs\n",
        "\n",
        "# ---------- Gradio Interface ----------\n",
        "def recommend_ui(user_id, top_n):\n",
        "    recs = recommend_for(user_id, top_n)\n",
        "    if not recs:\n",
        "        return pd.DataFrame([{\"Error\": f\"No recommendations found. User '{user_id}' may be new.\"}])\n",
        "\n",
        "    # Convert list of dicts to dataframe for clean display\n",
        "    df_out = pd.DataFrame(recs)\n",
        "    return df_out\n",
        "\n",
        "iface = gr.Interface(\n",
        "    fn=recommend_ui,\n",
        "    inputs=[\n",
        "        gr.Textbox(label=\"User ID\", placeholder=\"Enter user_id, e.g., user_82\"),\n",
        "        gr.Slider(minimum=1, maximum=10, step=1, value=TOP_N_DEFAULT, label=\"Number of Recommendations\")\n",
        "    ],\n",
        "    outputs=gr.Dataframe(label=\"Top-N Recommendations\", type=\"pandas\"),\n",
        "    title=\"Online Course Recommender (Enhanced)\",\n",
        "    description=\"Enter a user ID to get personalized top-N course recommendations.\"\n",
        ")\n",
        "\n",
        "# Launch Gradio app\n",
        "iface.launch(share=True)\n"
      ],
      "metadata": {
        "colab": {
          "base_uri": "https://localhost:8080/",
          "height": 628
        },
        "id": "a2ACtC7xC44V",
        "outputId": "d8369557-3b61-400c-99f9-ff8d14a3a29d"
      },
      "execution_count": 17,
      "outputs": [
        {
          "output_type": "stream",
          "name": "stdout",
          "text": [
            "✅ Dataset loaded: (300, 5)\n",
            "Colab notebook detected. To show errors in colab notebook, set debug=True in launch()\n",
            "* Running on public URL: https://aa67735b929af9eba2.gradio.live\n",
            "\n",
            "This share link expires in 1 week. For free permanent hosting and GPU upgrades, run `gradio deploy` from the terminal in the working directory to deploy to Hugging Face Spaces (https://huggingface.co/spaces)\n"
          ]
        },
        {
          "output_type": "display_data",
          "data": {
            "text/plain": [
              "<IPython.core.display.HTML object>"
            ],
            "text/html": [
              "<div><iframe src=\"https://aa67735b929af9eba2.gradio.live\" width=\"100%\" height=\"500\" allow=\"autoplay; camera; microphone; clipboard-read; clipboard-write;\" frameborder=\"0\" allowfullscreen></iframe></div>"
            ]
          },
          "metadata": {}
        },
        {
          "output_type": "execute_result",
          "data": {
            "text/plain": []
          },
          "metadata": {},
          "execution_count": 17
        }
      ]
    }
  ],
  "metadata": {
    "colab": {
      "provenance": []
    },
    "kernelspec": {
      "display_name": "Python 3",
      "name": "python3"
    },
    "language_info": {
      "name": "python"
    }
  },
  "nbformat": 4,
  "nbformat_minor": 0
}